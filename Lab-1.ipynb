{
 "cells": [
  {
   "cell_type": "code",
   "execution_count": 3,
   "id": "7764d2c7-c09c-4e88-8c24-14eae4474111",
   "metadata": {},
   "outputs": [
    {
     "name": "stdin",
     "output_type": "stream",
     "text": [
      "Enter the elements of the first list 1 2 3 4 5\n",
      "Enter the elements of the second list 4 5 6 7\n"
     ]
    },
    {
     "name": "stdout",
     "output_type": "stream",
     "text": [
      "The number of common elements between the two lists is: 2\n"
     ]
    }
   ],
   "source": [
    "def common(l1, l2):\n",
    "   \n",
    "    set1 = set(l1)\n",
    "    set2 = set(l2)\n",
    "   \n",
    "   \n",
    "    common_elements = set1.intersection(set2)\n",
    "   \n",
    "   \n",
    "    return len(common_elements)\n",
    "l1 = list(map(int, input(\"Enter the elements of the first list\").split()))\n",
    "l2 = list(map(int, input(\"Enter the elements of the second list\").split()))\n",
    "\n",
    "\n",
    "num = common(l1, l2)\n",
    "\n",
    "\n",
    "print(f\"The number of common elements between the two lists is: {num}\")\n"
   ]
  },
  {
   "cell_type": "code",
   "execution_count": 4,
   "id": "5316aff1-cdef-4919-9de0-acbc0306969f",
   "metadata": {},
   "outputs": [
    {
     "name": "stdin",
     "output_type": "stream",
     "text": [
      "Enter the number of rows for the matrix:  3\n",
      "Enter the number of columns for the matrix:  3\n"
     ]
    },
    {
     "name": "stdout",
     "output_type": "stream",
     "text": [
      "Enter the elements of the matrix, row by row, each row's elements separated by spaces:\n"
     ]
    },
    {
     "name": "stdin",
     "output_type": "stream",
     "text": [
      "Row 1:  1 2 3 \n",
      "Row 2:  5\n"
     ]
    },
    {
     "name": "stdout",
     "output_type": "stream",
     "text": [
      "Error: Row 2 does not have 3 columns. Please enter again.\n"
     ]
    },
    {
     "name": "stdin",
     "output_type": "stream",
     "text": [
      "Row 2:  6\n"
     ]
    },
    {
     "name": "stdout",
     "output_type": "stream",
     "text": [
      "Error: Row 2 does not have 3 columns. Please enter again.\n"
     ]
    },
    {
     "name": "stdin",
     "output_type": "stream",
     "text": [
      "Row 2:  5 6 7\n",
      "Row 3:  8 9 0\n"
     ]
    },
    {
     "name": "stdout",
     "output_type": "stream",
     "text": [
      "The transpose of the matrix is:\n",
      "1 5 8\n",
      "2 6 9\n",
      "3 7 0\n"
     ]
    }
   ],
   "source": [
    "def input_matrix():\n",
    "    rows = int(input(\"Enter the number of rows for the matrix: \"))\n",
    "    cols = int(input(\"Enter the number of columns for the matrix: \"))\n",
    "    matrix = []\n",
    "   \n",
    "    print(\"Enter the elements of the matrix, row by row, each row's elements separated by spaces:\")\n",
    "    for i in range(rows):\n",
    "        while True:\n",
    "            row = input(f\"Row {i+1}: \").split()\n",
    "            if len(row) != cols:\n",
    "                print(f\"Error: Row {i+1} does not have {cols} columns. Please enter again.\")\n",
    "            else:\n",
    "                matrix.append(list(map(int, row)))\n",
    "                break\n",
    "   \n",
    "    return matrix\n",
    "\n",
    "def transpose_matrix(matrix):\n",
    "    rows = len(matrix)\n",
    "    cols = len(matrix[0])\n",
    "   \n",
    "    transpose = [[0 for _ in range(rows)] for _ in range(cols)]\n",
    "   \n",
    "    for i in range(rows):\n",
    "        for j in range(cols):\n",
    "            transpose[j][i] = matrix[i][j]\n",
    "   \n",
    "    return transpose\n",
    "def print_matrix(matrix):\n",
    "    for row in matrix:\n",
    "        print(' '.join(map(str, row)))\n",
    "\n",
    "matrix = input_matrix()\n",
    "\n",
    "\n",
    "transpose = transpose_matrix(matrix)\n",
    "\n",
    "\n",
    "print(\"The transpose of the matrix is:\")\n",
    "print_matrix(transpose)\n"
   ]
  },
  {
   "cell_type": "code",
   "execution_count": 5,
   "id": "5f32e877-8590-4e4f-bc15-8f9a9664accd",
   "metadata": {},
   "outputs": [
    {
     "name": "stdin",
     "output_type": "stream",
     "text": [
      "Enter a string:  aeiouqwrty\n"
     ]
    },
    {
     "name": "stdout",
     "output_type": "stream",
     "text": [
      "Number of vowels: 5\n",
      "Number of consonants: 5\n"
     ]
    }
   ],
   "source": [
    "def count(s):\n",
    "    vowels = 'aeiouAEIOU'\n",
    "    vowel = 0\n",
    "    consonant = 0\n",
    "\n",
    "    for char in s:\n",
    "        if char.isalpha():  \n",
    "            if char in vowels:\n",
    "                vowel += 1\n",
    "            else:\n",
    "                consonant += 1\n",
    "\n",
    "    return vowel, consonant\n",
    "\n",
    "\n",
    "input_string = input(\"Enter a string: \")\n",
    "\n",
    "\n",
    "vowels, consonants = count(input_string)\n",
    "\n",
    "print(f\"Number of vowels: {vowels}\")\n",
    "print(f\"Number of consonants: {consonants}\")\n"
   ]
  },
  {
   "cell_type": "code",
   "execution_count": 9,
   "id": "d9268896-9f05-4dae-a5b4-af9a84e4b92b",
   "metadata": {},
   "outputs": [
    {
     "ename": "IndentationError",
     "evalue": "unindent does not match any outer indentation level (<string>, line 24)",
     "output_type": "error",
     "traceback": [
      "\u001b[1;36m  File \u001b[1;32m<string>:24\u001b[1;36m\u001b[0m\n\u001b[1;33m    for i in range(len(A)):\u001b[0m\n\u001b[1;37m                           ^\u001b[0m\n\u001b[1;31mIndentationError\u001b[0m\u001b[1;31m:\u001b[0m unindent does not match any outer indentation level\n"
     ]
    }
   ],
   "source": [
    "def input_matrix(name):\n",
    "    rows = int(input(f\"Enter the number of rows for matrix {name}: \"))\n",
    "    cols = int(input(f\"Enter the number of columns for matrix {name}: \"))\n",
    "    matrix = []\n",
    "   \n",
    "    print(f\"Enter the elements of matrix {name}, row by row, each row's elements separated by spaces:\")\n",
    "    for i in range(rows):\n",
    "        while True:\n",
    "            row = input(f\"Row {i+1}: \").split()\n",
    "            if len(row) != cols:\n",
    "                print(f\"Error: Row {i+1} does not have {cols} columns. Please enter again.\")\n",
    "            else:\n",
    "                matrix.append(list(map(int, row)))\n",
    "                break\n",
    "   \n",
    "    return matrix\n",
    "\n",
    "def multiply_matrices(A, B):\n",
    "    if len(A[0]) != len(B):\n",
    "        return \"Error: Matrices A and B cannot be multiplied due to incompatible dimensions.\"\n",
    "\n",
    "    result = [[0 for _ in range(len(B[0]))] for _ in range(len(A))]\n",
    "\n",
    " for i in range(len(A)):\n",
    "        for j in range(len(B[0])):\n",
    "            for k in range(len(B)):\n",
    "                result[i][j] += A[i][k] * B[k][j]\n",
    "   \n",
    "    return result\n",
    "\n",
    "def print_matrix(matrix):\n",
    "    for row in matrix:\n",
    "        print(' '.join(map(str, row)))\n",
    "\n",
    "# Input matrices A and B\n",
    "try:\n",
    "    A = input_matrix('A')\n",
    "    B = input_matrix('B')\n",
    "   \n",
    "    # Multiply matrices\n",
    "    result = multiply_matrices(A, B)\n",
    "   \n",
    "    if isinstance(result, str):\n",
    "        print(result)\n",
    "    else:\n",
    "        print(\"The product of matrices A and B is:\")\n",
    "        print_matrix(result)\n",
    "except ValueError as e:\n",
    "    print(e)"
   ]
  },
  {
   "cell_type": "code",
   "execution_count": null,
   "id": "dbd67a22-fd7b-4838-8d89-981dfed8ffe9",
   "metadata": {},
   "outputs": [],
   "source": []
  }
 ],
 "metadata": {
  "kernelspec": {
   "display_name": "Python 3 (ipykernel)",
   "language": "python",
   "name": "python3"
  },
  "language_info": {
   "codemirror_mode": {
    "name": "ipython",
    "version": 3
   },
   "file_extension": ".py",
   "mimetype": "text/x-python",
   "name": "python",
   "nbconvert_exporter": "python",
   "pygments_lexer": "ipython3",
   "version": "3.12.3"
  }
 },
 "nbformat": 4,
 "nbformat_minor": 5
}
